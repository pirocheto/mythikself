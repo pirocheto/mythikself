{
 "cells": [
  {
   "cell_type": "code",
   "execution_count": 4,
   "id": "3f204501",
   "metadata": {},
   "outputs": [
    {
     "data": {
      "text/html": [
       "\n",
       "    <div style=\"display: flex; gap: 20px; align-items: flex-start;\">\n",
       "        <img src=\"/Users/prochet/Projects/mythikself/drafts/input_images/WhatsApp Image 2025-06-19 at 12.33.12.jpeg\" width=\"300\" style=\"max-width:300px; height:auto; display:block;\">\n",
       "        <img src=\"/Users/prochet/Projects/mythikself/drafts/input_images/WhatsApp Image 2025-06-19 at 12.28.15.jpeg\" width=\"300\" style=\"max-width:300px; height:auto; display:block;\">\n",
       "    </div>\n",
       "    <div style=\"margin-top: 20px;\">\n",
       "        <img src=\"https://replicate.delivery/xezq/tfpYgfyHy6pBM0tRIVesjyyCJDFTkvSCKvdVPst2isHiMvxpA/tmp6xjo45ns.png\" width=\"300\" style=\"max-width:300px; height:auto; display:block;\">\n",
       "    </div>\n"
      ],
      "text/plain": [
       "<IPython.core.display.HTML object>"
      ]
     },
     "metadata": {},
     "output_type": "display_data"
    }
   ],
   "source": [
    "from pathlib import Path\n",
    "import dotenv\n",
    "import replicate\n",
    "from IPython.display import display, Image, HTML\n",
    "\n",
    "\n",
    "cur_dir = Path.cwd()\n",
    "env_path = cur_dir.parents[2] / \".env\"\n",
    "dotenv.load_dotenv(env_path)\n",
    "\n",
    "\n",
    "model_id = \"flux-kontext-apps/multi-image-kontext-max\"\n",
    "\n",
    "########## PROMPT ##########\n",
    "prompt = \"Place the man on the desk in a professional but casual outfit, without the scarf. He must be wearing a shirt.\"\n",
    "\n",
    "input_image_1 = cur_dir / \"input_images/WhatsApp Image 2025-06-19 at 12.33.12.jpeg\"\n",
    "input_image_2 = cur_dir / \"input_images/WhatsApp Image 2025-06-19 at 12.28.15.jpeg\"\n",
    "############################\n",
    "\n",
    "\n",
    "\n",
    "input = {\n",
    "    \"prompt\": prompt,\n",
    "    \"aspect_ratio\": \"1:1\",\n",
    "    \"input_image_1\": input_image_1,\n",
    "    \"input_image_2\": input_image_2,\n",
    "}\n",
    "\n",
    "\n",
    "\n",
    "output = replicate.run(model_id, input=input)\n",
    "\n",
    "with open(\"test.png\", \"wb\") as f:\n",
    "    f.write(output.read())\n",
    "\n",
    "\n",
    "display(HTML(f\"\"\"\n",
    "    <div style=\"display: flex; gap: 20px; align-items: flex-start;\">\n",
    "        <img src=\"{input_image_1}\" width=\"300\" style=\"max-width:300px; height:auto; display:block;\">\n",
    "        <img src=\"{input_image_2}\" width=\"300\" style=\"max-width:300px; height:auto; display:block;\">\n",
    "    </div>\n",
    "    <div style=\"margin-top: 20px;\">\n",
    "        <img src=\"{generated_image}\" width=\"300\" style=\"max-width:300px; height:auto; display:block;\">\n",
    "    </div>\n",
    "\"\"\"))\n"
   ]
  }
 ],
 "metadata": {
  "kernelspec": {
   "display_name": ".venv",
   "language": "python",
   "name": "python3"
  },
  "language_info": {
   "codemirror_mode": {
    "name": "ipython",
    "version": 3
   },
   "file_extension": ".py",
   "mimetype": "text/x-python",
   "name": "python",
   "nbconvert_exporter": "python",
   "pygments_lexer": "ipython3",
   "version": "3.13.0"
  }
 },
 "nbformat": 4,
 "nbformat_minor": 5
}
